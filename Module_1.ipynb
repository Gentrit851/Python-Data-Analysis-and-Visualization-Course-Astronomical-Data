{
  "nbformat": 4,
  "nbformat_minor": 0,
  "metadata": {
    "colab": {
      "provenance": [],
      "authorship_tag": "ABX9TyPLFTwxWhh3SrFypOFLTKsI",
      "include_colab_link": true
    },
    "kernelspec": {
      "name": "python3",
      "display_name": "Python 3"
    },
    "language_info": {
      "name": "python"
    }
  },
  "cells": [
    {
      "cell_type": "markdown",
      "metadata": {
        "id": "view-in-github",
        "colab_type": "text"
      },
      "source": [
        "<a href=\"https://colab.research.google.com/github/Gentrit851/Python-Data-Analysis-and-Visualization-Course-Astronomical-Data/blob/develop/Module_1.ipynb\" target=\"_parent\"><img src=\"https://colab.research.google.com/assets/colab-badge.svg\" alt=\"Open In Colab\"/></a>"
      ]
    },
    {
      "cell_type": "markdown",
      "source": [
        "# Python Basics for Astronomy"
      ],
      "metadata": {
        "id": "bkDUdIHYcQ7s"
      }
    },
    {
      "cell_type": "code",
      "source": [
        "# Prints Hello World\n",
        "print(\"hello world\")"
      ],
      "metadata": {
        "colab": {
          "base_uri": "https://localhost:8080/"
        },
        "id": "b1uAMQS4cWtN",
        "outputId": "0e3d6e84-690f-4ca4-c0c9-30657a221a05"
      },
      "execution_count": 1,
      "outputs": [
        {
          "output_type": "stream",
          "name": "stdout",
          "text": [
            "hello world\n"
          ]
        }
      ]
    },
    {
      "cell_type": "markdown",
      "source": [
        "# 1.Comments"
      ],
      "metadata": {
        "id": "0tvSgQmjdNRx"
      }
    },
    {
      "cell_type": "code",
      "source": [
        "\"\"\"\n",
        "This is the 1st line of comment\n",
        "This is the 2nd line of comment\n",
        "\"\"\""
      ],
      "metadata": {
        "id": "qm0XVANcdKAv"
      },
      "execution_count": null,
      "outputs": []
    },
    {
      "cell_type": "markdown",
      "source": [
        "# f-strings\n"
      ],
      "metadata": {
        "id": "Lfm7GaXJex8O"
      }
    },
    {
      "cell_type": "code",
      "source": [
        "# Understanding the power of f-strings\n",
        "name_planet = 'Saturn'\n",
        "moons_planet = 146\n",
        "\n",
        "print(\"Planet Saturn has 150 moons\")\n",
        "print(f\"Planet {name_planet} has {moons_planet} Moons\")\n",
        "\n"
      ],
      "metadata": {
        "id": "ZYW9i9Cje2Tz"
      },
      "execution_count": null,
      "outputs": []
    },
    {
      "cell_type": "code",
      "source": [
        "# String concatination\n",
        "\n",
        "str_1 = \"Earth is the only planet with Life.\"\n",
        "str_2 = \"Maybe not ! :D\"\n",
        "\n",
        "print(str_1 + \" \" + str_2)\n",
        "print (f'{str_1} {str_2}')"
      ],
      "metadata": {
        "id": "2KoPSfNSfcwY"
      },
      "execution_count": null,
      "outputs": []
    },
    {
      "cell_type": "markdown",
      "source": [
        "# User Inputs"
      ],
      "metadata": {
        "id": "j4PdZf-QgUA3"
      }
    },
    {
      "cell_type": "code",
      "source": [
        "#Use input() to take user inputs\n",
        "user_name = input(\"Enter your name: \")"
      ],
      "metadata": {
        "id": "-RbMdESLgWpS"
      },
      "execution_count": null,
      "outputs": []
    },
    {
      "cell_type": "code",
      "source": [
        "# Displaying the users name and its type\n",
        "print(user_name)\n",
        "print(type(user_name))"
      ],
      "metadata": {
        "id": "Uw9Rt2Uxgw3I"
      },
      "execution_count": null,
      "outputs": []
    },
    {
      "cell_type": "code",
      "source": [
        "# Ask user to input their name fav number\n",
        "\n",
        "user_fave_number = input(\"Enter your fav number: \")\n"
      ],
      "metadata": {
        "id": "8WrN554Pg87l"
      },
      "execution_count": null,
      "outputs": []
    },
    {
      "cell_type": "code",
      "source": [
        "# Displaying the users fav number and its type\n",
        "print(user_fave_number)\n",
        "print(type(user_fave_number))"
      ],
      "metadata": {
        "id": "-h_BhtY4hJnf"
      },
      "execution_count": null,
      "outputs": []
    },
    {
      "cell_type": "markdown",
      "source": [
        "# Data Type Conversion"
      ],
      "metadata": {
        "id": "MbWad50Ghb8X"
      }
    },
    {
      "cell_type": "code",
      "source": [
        "# Commands to convert --> str(input), int(input), float(input)\n",
        "\n",
        "# Convert a string data into integer and float\n",
        "str_to_int = int(user_fave_number)\n",
        "print(str_to_int)\n",
        "print(type(str_to_int))"
      ],
      "metadata": {
        "colab": {
          "base_uri": "https://localhost:8080/"
        },
        "id": "GKNuLyYUhf7A",
        "outputId": "e523cf2c-6b25-48b8-92d1-548527566b42"
      },
      "execution_count": 14,
      "outputs": [
        {
          "output_type": "stream",
          "name": "stdout",
          "text": [
            "55\n",
            "<class 'int'>\n"
          ]
        }
      ]
    }
  ]
}