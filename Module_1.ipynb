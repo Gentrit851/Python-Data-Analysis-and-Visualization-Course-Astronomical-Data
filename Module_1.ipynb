{
  "nbformat": 4,
  "nbformat_minor": 0,
  "metadata": {
    "colab": {
      "provenance": [],
      "authorship_tag": "ABX9TyO0R7mbISA75ebzypdr2I1y",
      "include_colab_link": true
    },
    "kernelspec": {
      "name": "python3",
      "display_name": "Python 3"
    },
    "language_info": {
      "name": "python"
    }
  },
  "cells": [
    {
      "cell_type": "markdown",
      "metadata": {
        "id": "view-in-github",
        "colab_type": "text"
      },
      "source": [
        "<a href=\"https://colab.research.google.com/github/Gentrit851/Python-Data-Analysis-and-Visualization-Course-Astronomical-Data/blob/develop/Module_1.ipynb\" target=\"_parent\"><img src=\"https://colab.research.google.com/assets/colab-badge.svg\" alt=\"Open In Colab\"/></a>"
      ]
    },
    {
      "cell_type": "markdown",
      "source": [
        "# Python Basics for Astronomy"
      ],
      "metadata": {
        "id": "bkDUdIHYcQ7s"
      }
    },
    {
      "cell_type": "code",
      "source": [
        "# Prints Hello World\n",
        "print(\"hello world\")"
      ],
      "metadata": {
        "colab": {
          "base_uri": "https://localhost:8080/"
        },
        "id": "b1uAMQS4cWtN",
        "outputId": "0e3d6e84-690f-4ca4-c0c9-30657a221a05"
      },
      "execution_count": 1,
      "outputs": [
        {
          "output_type": "stream",
          "name": "stdout",
          "text": [
            "hello world\n"
          ]
        }
      ]
    },
    {
      "cell_type": "markdown",
      "source": [
        "# 1.Comments"
      ],
      "metadata": {
        "id": "0tvSgQmjdNRx"
      }
    },
    {
      "cell_type": "code",
      "source": [
        "\"\"\"\n",
        "This is the 1st line of comment\n",
        "This is the 2nd line of comment\n",
        "\"\"\""
      ],
      "metadata": {
        "id": "qm0XVANcdKAv"
      },
      "execution_count": null,
      "outputs": []
    },
    {
      "cell_type": "markdown",
      "source": [
        "# f-strings\n"
      ],
      "metadata": {
        "id": "Lfm7GaXJex8O"
      }
    },
    {
      "cell_type": "code",
      "source": [
        "# Understanding the power of f-strings\n",
        "name_planet = 'Saturn'\n",
        "moons_planet = 146\n",
        "\n",
        "print(\"Planet Saturn has 150 moons\")\n",
        "print(f\"Planet {name_planet} has {moons_planet} Moons\")\n",
        "\n"
      ],
      "metadata": {
        "id": "ZYW9i9Cje2Tz"
      },
      "execution_count": null,
      "outputs": []
    },
    {
      "cell_type": "code",
      "source": [
        "# String concatination\n",
        "\n",
        "str_1 = \"Earth is the only planet with Life.\"\n",
        "str_2 = \"Maybe not ! :D\"\n",
        "\n",
        "print(str_1 + \" \" + str_2)\n",
        "print (f'{str_1} {str_2}')"
      ],
      "metadata": {
        "id": "2KoPSfNSfcwY"
      },
      "execution_count": null,
      "outputs": []
    },
    {
      "cell_type": "markdown",
      "source": [
        "# User Inputs"
      ],
      "metadata": {
        "id": "j4PdZf-QgUA3"
      }
    },
    {
      "cell_type": "code",
      "source": [
        "#Use input() to take user inputs\n",
        "user_name = input(\"Enter your name: \")"
      ],
      "metadata": {
        "id": "-RbMdESLgWpS"
      },
      "execution_count": null,
      "outputs": []
    },
    {
      "cell_type": "code",
      "source": [
        "# Displaying the users name and its type\n",
        "print(user_name)\n",
        "print(type(user_name))"
      ],
      "metadata": {
        "id": "Uw9Rt2Uxgw3I"
      },
      "execution_count": null,
      "outputs": []
    },
    {
      "cell_type": "code",
      "source": [
        "# Ask user to input their name fav number\n",
        "\n",
        "user_fave_number = input(\"Enter your fav number: \")\n"
      ],
      "metadata": {
        "id": "8WrN554Pg87l"
      },
      "execution_count": null,
      "outputs": []
    },
    {
      "cell_type": "code",
      "source": [
        "# Displaying the users fav number and its type\n",
        "print(user_fave_number)\n",
        "print(type(user_fave_number))"
      ],
      "metadata": {
        "id": "-h_BhtY4hJnf"
      },
      "execution_count": null,
      "outputs": []
    },
    {
      "cell_type": "markdown",
      "source": [
        "# Data Type Conversion"
      ],
      "metadata": {
        "id": "MbWad50Ghb8X"
      }
    },
    {
      "cell_type": "code",
      "source": [
        "# Commands to convert --> str(input), int(input), float(input)\n",
        "\n",
        "# Convert a string data into integer and float\n",
        "str_to_int = int(user_fave_number)\n",
        "print(str_to_int)\n",
        "print(type(str_to_int))\n",
        "\n",
        "str_to_float = float(user_fave_number)\n",
        "print(str_to_float)\n",
        "print(type(str_to_float))"
      ],
      "metadata": {
        "id": "GKNuLyYUhf7A"
      },
      "execution_count": null,
      "outputs": []
    },
    {
      "cell_type": "code",
      "source": [
        "# Get user input pf two different integers and add them together\n",
        "\n",
        "n1 = input(\"Give me the 1st number: \")\n",
        "n2 = input(\"Gvie me the 2nd intger: \")\n",
        "\n",
        "print(f\"The sum of {n1} and {n2} is {n1+n2}\")  # prints 7 + 9 = 79\n",
        "print(f\"The sum of {n1} and {n2} is {int(n1) + int(n2)}\") # prints 7 + 9 = 16"
      ],
      "metadata": {
        "id": "hkbk3Rkbj2gF"
      },
      "execution_count": null,
      "outputs": []
    },
    {
      "cell_type": "markdown",
      "source": [
        "# Control Flow\n",
        "* For Loop and While Loop\n",
        "* Condition Statements"
      ],
      "metadata": {
        "id": "O6AbujC4knwD"
      }
    },
    {
      "cell_type": "code",
      "source": [
        "# range(start,end,skip) ---> Start is inclusive and end is exclusive\n",
        "range(-5,10)"
      ],
      "metadata": {
        "colab": {
          "base_uri": "https://localhost:8080/"
        },
        "id": "g79fcq5clEEL",
        "outputId": "68107e00-37e8-4a46-e345-37763e88bdcb"
      },
      "execution_count": 20,
      "outputs": [
        {
          "output_type": "execute_result",
          "data": {
            "text/plain": [
              "range(-5, 10)"
            ]
          },
          "metadata": {},
          "execution_count": 20
        }
      ]
    },
    {
      "cell_type": "code",
      "source": [
        "# For Loop\n",
        "for index in range(-5,10, 2):\n",
        "  print(index)"
      ],
      "metadata": {
        "id": "bQ3YfWUIkyDU"
      },
      "execution_count": null,
      "outputs": []
    },
    {
      "cell_type": "markdown",
      "source": [
        "# Functions"
      ],
      "metadata": {
        "id": "RWzHwpdCoXBY"
      }
    },
    {
      "cell_type": "code",
      "source": [
        "# Define the function\n",
        "def greet():\n",
        "  print(\"Hey Astrophiles !\")"
      ],
      "metadata": {
        "id": "xkpfj_wBoYzR"
      },
      "execution_count": 34,
      "outputs": []
    },
    {
      "cell_type": "code",
      "source": [
        "# Call the function\n",
        "greet()"
      ],
      "metadata": {
        "id": "JYMNEkgkoiqd"
      },
      "execution_count": null,
      "outputs": []
    },
    {
      "cell_type": "code",
      "source": [
        "# Define funnction to greet a specific person whose name will be given as input\n",
        "def greet_person(name):\n",
        "  print(f\"Hey {name}, I hope you are enjoying this session\")\n"
      ],
      "metadata": {
        "id": "Bs1P0GISot85"
      },
      "execution_count": 41,
      "outputs": []
    },
    {
      "cell_type": "code",
      "source": [
        "# Call the function\n",
        "greet_person(\"Gentrit\")"
      ],
      "metadata": {
        "colab": {
          "base_uri": "https://localhost:8080/"
        },
        "id": "QAKx-7APo8pw",
        "outputId": "c234a0cc-7f45-44dd-d31c-c9dffe105f42"
      },
      "execution_count": 42,
      "outputs": [
        {
          "output_type": "stream",
          "name": "stdout",
          "text": [
            "Hey Gentrit, I hope you are enjoying this session\n"
          ]
        }
      ]
    },
    {
      "cell_type": "code",
      "source": [
        "# Position Arguments, Keyword Argumnets\n",
        "\n",
        "def greeting(name,msg):\n",
        "  print(f\"Hey {name}, {msg}!\")\n",
        ""
      ],
      "metadata": {
        "id": "if2rbjU-p0SR"
      },
      "execution_count": 43,
      "outputs": []
    },
    {
      "cell_type": "code",
      "source": [
        "# Call this function by placing the input arguments in the same order while building it\n",
        "greeting(\"Gentrit\", \"Are you a human?\")\n"
      ],
      "metadata": {
        "id": "5e1H8xhlqKWx"
      },
      "execution_count": null,
      "outputs": []
    },
    {
      "cell_type": "code",
      "source": [
        "# Call the function with keyword arguments\n",
        "greeting(msg = 'Are u an alien?', name = \"Gentrit\")\n"
      ],
      "metadata": {
        "colab": {
          "base_uri": "https://localhost:8080/"
        },
        "id": "kRwyu2TeqrA9",
        "outputId": "caf8d0ce-0b8b-48c5-e07e-5677b0bb3fdc"
      },
      "execution_count": 46,
      "outputs": [
        {
          "output_type": "stream",
          "name": "stdout",
          "text": [
            "Hey Gentrit, Are u an alien?!\n"
          ]
        }
      ]
    },
    {
      "cell_type": "code",
      "source": [
        "# Default Arguments\n",
        "\n",
        "def greeting_with_default_args(name, msg = \"Welcome to this program on Astronomy Visualization!\"):\n",
        "  print(f\"Hey {name}, {msg}!\")\n"
      ],
      "metadata": {
        "id": "TDLpKIglq2V9"
      },
      "execution_count": 49,
      "outputs": []
    },
    {
      "cell_type": "code",
      "source": [
        "greeting_with_default_args(\"Gentrit\")"
      ],
      "metadata": {
        "colab": {
          "base_uri": "https://localhost:8080/"
        },
        "id": "3j4zVFGWrF0X",
        "outputId": "0155a080-42bf-4b13-a2ff-8a97f7b0a7cf"
      },
      "execution_count": 53,
      "outputs": [
        {
          "output_type": "stream",
          "name": "stdout",
          "text": [
            "Hey Gentrit, Welcome to this program on Astronomy Visualization!  !\n"
          ]
        }
      ]
    },
    {
      "cell_type": "code",
      "source": [
        "# Create calculator\n",
        "\n",
        "def basic_calc(n1,n2,operation):\n",
        "  if operation.lower() == 'add':\n",
        "    return n1+n2\n",
        "  elif operation.lower() == 'subtract':\n",
        "    return n1-n2\n",
        "  elif operation.lower() == 'multiply':\n",
        "    return n1*n2\n",
        "  elif operation.lower() == 'divide':\n",
        "    return n1/n2\n",
        "  else:\n",
        "    print(f\"{operation} cannot be applied. Try again\")\n",
        ""
      ],
      "metadata": {
        "id": "7nyaAemmrx6a"
      },
      "execution_count": 54,
      "outputs": []
    },
    {
      "cell_type": "code",
      "source": [
        "multiply = basic_calc(2,4,\"multiply\")\n",
        "print(multiply)\n",
        "\n",
        "# divide = basic_calc(8,0,\"divide\")\n",
        "# print(divide)\n",
        "# Testing ZeroDivision"
      ],
      "metadata": {
        "colab": {
          "base_uri": "https://localhost:8080/"
        },
        "id": "xK8mDu0NsT6I",
        "outputId": "4cc1895f-eeb3-4c3d-8b84-b981ff741ea0"
      },
      "execution_count": 60,
      "outputs": [
        {
          "output_type": "stream",
          "name": "stdout",
          "text": [
            "8\n"
          ]
        }
      ]
    }
  ]
}